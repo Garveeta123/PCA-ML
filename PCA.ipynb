{
  "nbformat": 4,
  "nbformat_minor": 0,
  "metadata": {
    "colab": {
      "name": "PCA.ipynb",
      "provenance": [],
      "authorship_tag": "ABX9TyPhNUKH0WJ6ntsGbq2C9eHo",
      "include_colab_link": true
    },
    "kernelspec": {
      "name": "python3",
      "display_name": "Python 3"
    }
  },
  "cells": [
    {
      "cell_type": "markdown",
      "metadata": {
        "id": "view-in-github",
        "colab_type": "text"
      },
      "source": [
        "<a href=\"https://colab.research.google.com/github/SAUMYA1519/PCA-Algorithim/blob/master/PCA.ipynb\" target=\"_parent\"><img src=\"https://colab.research.google.com/assets/colab-badge.svg\" alt=\"Open In Colab\"/></a>"
      ]
    },
    {
      "cell_type": "code",
      "metadata": {
        "id": "Cwk8SybUngKw",
        "colab_type": "code",
        "colab": {}
      },
      "source": [
        "import pandas as pd"
      ],
      "execution_count": null,
      "outputs": []
    },
    {
      "cell_type": "code",
      "metadata": {
        "id": "yaahT1Kgn9Zk",
        "colab_type": "code",
        "colab": {}
      },
      "source": [
        "df=pd.DataFrame(columns=['calory','breakfast','lunch','dinner','excercize','body_shape'])"
      ],
      "execution_count": null,
      "outputs": []
    },
    {
      "cell_type": "code",
      "metadata": {
        "id": "qMPBa17OtUEl",
        "colab_type": "code",
        "colab": {}
      },
      "source": [
        "df.loc[0]=[1200,1,0,0,2,'Skinny']\n",
        "df.loc[1]=[2800,1,1,1,1,'Normal']\n",
        "df.loc[2]=[3500,2,2,1,0,'Fat']\n",
        "df.loc[3]=[1400,0,1,0,3,'Skinny']\n",
        "df.loc[4]=[5000,2,2,2,0,'Fat']\n",
        "df.loc[5]=[1300,0,0,1,2,'Skinny']\n",
        "df.loc[6]=[3000,1,0,1,1,'Normal']\n",
        "df.loc[7]=[4000,2,2,2,0,'Fat']\n",
        "df.loc[8]=[2600,0,2,0,0,'Normal']\n",
        "df.loc[9]=[3000,1,2,1,1,'Fat']\n"
      ],
      "execution_count": null,
      "outputs": []
    },
    {
      "cell_type": "code",
      "metadata": {
        "id": "IyuZRBFpvVPp",
        "colab_type": "code",
        "colab": {
          "base_uri": "https://localhost:8080/",
          "height": 359
        },
        "outputId": "b867da05-426b-4b67-b990-d08d0ae89d7a"
      },
      "source": [
        "df.head(10)"
      ],
      "execution_count": null,
      "outputs": [
        {
          "output_type": "execute_result",
          "data": {
            "text/html": [
              "<div>\n",
              "<style scoped>\n",
              "    .dataframe tbody tr th:only-of-type {\n",
              "        vertical-align: middle;\n",
              "    }\n",
              "\n",
              "    .dataframe tbody tr th {\n",
              "        vertical-align: top;\n",
              "    }\n",
              "\n",
              "    .dataframe thead th {\n",
              "        text-align: right;\n",
              "    }\n",
              "</style>\n",
              "<table border=\"1\" class=\"dataframe\">\n",
              "  <thead>\n",
              "    <tr style=\"text-align: right;\">\n",
              "      <th></th>\n",
              "      <th>calory</th>\n",
              "      <th>breakfast</th>\n",
              "      <th>lunch</th>\n",
              "      <th>dinner</th>\n",
              "      <th>excercize</th>\n",
              "      <th>body_shape</th>\n",
              "    </tr>\n",
              "  </thead>\n",
              "  <tbody>\n",
              "    <tr>\n",
              "      <th>0</th>\n",
              "      <td>1200</td>\n",
              "      <td>1</td>\n",
              "      <td>0</td>\n",
              "      <td>0</td>\n",
              "      <td>2</td>\n",
              "      <td>Skinny</td>\n",
              "    </tr>\n",
              "    <tr>\n",
              "      <th>1</th>\n",
              "      <td>2800</td>\n",
              "      <td>1</td>\n",
              "      <td>1</td>\n",
              "      <td>1</td>\n",
              "      <td>1</td>\n",
              "      <td>Normal</td>\n",
              "    </tr>\n",
              "    <tr>\n",
              "      <th>2</th>\n",
              "      <td>3500</td>\n",
              "      <td>2</td>\n",
              "      <td>2</td>\n",
              "      <td>1</td>\n",
              "      <td>0</td>\n",
              "      <td>Fat</td>\n",
              "    </tr>\n",
              "    <tr>\n",
              "      <th>3</th>\n",
              "      <td>1400</td>\n",
              "      <td>0</td>\n",
              "      <td>1</td>\n",
              "      <td>0</td>\n",
              "      <td>3</td>\n",
              "      <td>Skinny</td>\n",
              "    </tr>\n",
              "    <tr>\n",
              "      <th>4</th>\n",
              "      <td>5000</td>\n",
              "      <td>2</td>\n",
              "      <td>2</td>\n",
              "      <td>2</td>\n",
              "      <td>0</td>\n",
              "      <td>Fat</td>\n",
              "    </tr>\n",
              "    <tr>\n",
              "      <th>5</th>\n",
              "      <td>1300</td>\n",
              "      <td>0</td>\n",
              "      <td>0</td>\n",
              "      <td>1</td>\n",
              "      <td>2</td>\n",
              "      <td>Skinny</td>\n",
              "    </tr>\n",
              "    <tr>\n",
              "      <th>6</th>\n",
              "      <td>3000</td>\n",
              "      <td>1</td>\n",
              "      <td>0</td>\n",
              "      <td>1</td>\n",
              "      <td>1</td>\n",
              "      <td>Normal</td>\n",
              "    </tr>\n",
              "    <tr>\n",
              "      <th>7</th>\n",
              "      <td>4000</td>\n",
              "      <td>2</td>\n",
              "      <td>2</td>\n",
              "      <td>2</td>\n",
              "      <td>0</td>\n",
              "      <td>Fat</td>\n",
              "    </tr>\n",
              "    <tr>\n",
              "      <th>8</th>\n",
              "      <td>2600</td>\n",
              "      <td>0</td>\n",
              "      <td>2</td>\n",
              "      <td>0</td>\n",
              "      <td>0</td>\n",
              "      <td>Normal</td>\n",
              "    </tr>\n",
              "    <tr>\n",
              "      <th>9</th>\n",
              "      <td>3000</td>\n",
              "      <td>1</td>\n",
              "      <td>2</td>\n",
              "      <td>1</td>\n",
              "      <td>1</td>\n",
              "      <td>Fat</td>\n",
              "    </tr>\n",
              "  </tbody>\n",
              "</table>\n",
              "</div>"
            ],
            "text/plain": [
              "  calory breakfast lunch dinner excercize body_shape\n",
              "0   1200         1     0      0         2     Skinny\n",
              "1   2800         1     1      1         1     Normal\n",
              "2   3500         2     2      1         0        Fat\n",
              "3   1400         0     1      0         3     Skinny\n",
              "4   5000         2     2      2         0        Fat\n",
              "5   1300         0     0      1         2     Skinny\n",
              "6   3000         1     0      1         1     Normal\n",
              "7   4000         2     2      2         0        Fat\n",
              "8   2600         0     2      0         0     Normal\n",
              "9   3000         1     2      1         1        Fat"
            ]
          },
          "metadata": {
            "tags": []
          },
          "execution_count": 11
        }
      ]
    },
    {
      "cell_type": "code",
      "metadata": {
        "id": "MrreAIA3vn_6",
        "colab_type": "code",
        "colab": {}
      },
      "source": [
        "x=df[['calory','breakfast','lunch','dinner','excercize']]"
      ],
      "execution_count": null,
      "outputs": []
    },
    {
      "cell_type": "code",
      "metadata": {
        "id": "uBQ--yTAvyTR",
        "colab_type": "code",
        "colab": {
          "base_uri": "https://localhost:8080/",
          "height": 359
        },
        "outputId": "50a1cc1b-9cef-4512-cac1-6e26313b6049"
      },
      "source": [
        "x.head(10)"
      ],
      "execution_count": null,
      "outputs": [
        {
          "output_type": "execute_result",
          "data": {
            "text/html": [
              "<div>\n",
              "<style scoped>\n",
              "    .dataframe tbody tr th:only-of-type {\n",
              "        vertical-align: middle;\n",
              "    }\n",
              "\n",
              "    .dataframe tbody tr th {\n",
              "        vertical-align: top;\n",
              "    }\n",
              "\n",
              "    .dataframe thead th {\n",
              "        text-align: right;\n",
              "    }\n",
              "</style>\n",
              "<table border=\"1\" class=\"dataframe\">\n",
              "  <thead>\n",
              "    <tr style=\"text-align: right;\">\n",
              "      <th></th>\n",
              "      <th>calory</th>\n",
              "      <th>breakfast</th>\n",
              "      <th>lunch</th>\n",
              "      <th>dinner</th>\n",
              "      <th>excercize</th>\n",
              "    </tr>\n",
              "  </thead>\n",
              "  <tbody>\n",
              "    <tr>\n",
              "      <th>0</th>\n",
              "      <td>1200</td>\n",
              "      <td>1</td>\n",
              "      <td>0</td>\n",
              "      <td>0</td>\n",
              "      <td>2</td>\n",
              "    </tr>\n",
              "    <tr>\n",
              "      <th>1</th>\n",
              "      <td>2800</td>\n",
              "      <td>1</td>\n",
              "      <td>1</td>\n",
              "      <td>1</td>\n",
              "      <td>1</td>\n",
              "    </tr>\n",
              "    <tr>\n",
              "      <th>2</th>\n",
              "      <td>3500</td>\n",
              "      <td>2</td>\n",
              "      <td>2</td>\n",
              "      <td>1</td>\n",
              "      <td>0</td>\n",
              "    </tr>\n",
              "    <tr>\n",
              "      <th>3</th>\n",
              "      <td>1400</td>\n",
              "      <td>0</td>\n",
              "      <td>1</td>\n",
              "      <td>0</td>\n",
              "      <td>3</td>\n",
              "    </tr>\n",
              "    <tr>\n",
              "      <th>4</th>\n",
              "      <td>5000</td>\n",
              "      <td>2</td>\n",
              "      <td>2</td>\n",
              "      <td>2</td>\n",
              "      <td>0</td>\n",
              "    </tr>\n",
              "    <tr>\n",
              "      <th>5</th>\n",
              "      <td>1300</td>\n",
              "      <td>0</td>\n",
              "      <td>0</td>\n",
              "      <td>1</td>\n",
              "      <td>2</td>\n",
              "    </tr>\n",
              "    <tr>\n",
              "      <th>6</th>\n",
              "      <td>3000</td>\n",
              "      <td>1</td>\n",
              "      <td>0</td>\n",
              "      <td>1</td>\n",
              "      <td>1</td>\n",
              "    </tr>\n",
              "    <tr>\n",
              "      <th>7</th>\n",
              "      <td>4000</td>\n",
              "      <td>2</td>\n",
              "      <td>2</td>\n",
              "      <td>2</td>\n",
              "      <td>0</td>\n",
              "    </tr>\n",
              "    <tr>\n",
              "      <th>8</th>\n",
              "      <td>2600</td>\n",
              "      <td>0</td>\n",
              "      <td>2</td>\n",
              "      <td>0</td>\n",
              "      <td>0</td>\n",
              "    </tr>\n",
              "    <tr>\n",
              "      <th>9</th>\n",
              "      <td>3000</td>\n",
              "      <td>1</td>\n",
              "      <td>2</td>\n",
              "      <td>1</td>\n",
              "      <td>1</td>\n",
              "    </tr>\n",
              "  </tbody>\n",
              "</table>\n",
              "</div>"
            ],
            "text/plain": [
              "  calory breakfast lunch dinner excercize\n",
              "0   1200         1     0      0         2\n",
              "1   2800         1     1      1         1\n",
              "2   3500         2     2      1         0\n",
              "3   1400         0     1      0         3\n",
              "4   5000         2     2      2         0\n",
              "5   1300         0     0      1         2\n",
              "6   3000         1     0      1         1\n",
              "7   4000         2     2      2         0\n",
              "8   2600         0     2      0         0\n",
              "9   3000         1     2      1         1"
            ]
          },
          "metadata": {
            "tags": []
          },
          "execution_count": 14
        }
      ]
    },
    {
      "cell_type": "code",
      "metadata": {
        "id": "y857FcP4v5Sa",
        "colab_type": "code",
        "colab": {}
      },
      "source": [
        "y=df[['body_shape']]"
      ],
      "execution_count": null,
      "outputs": []
    },
    {
      "cell_type": "code",
      "metadata": {
        "id": "csuTzebwwA9a",
        "colab_type": "code",
        "colab": {
          "base_uri": "https://localhost:8080/",
          "height": 359
        },
        "outputId": "c83d60d0-d836-4711-c29b-ba7b1ff13570"
      },
      "source": [
        "y.head(10)"
      ],
      "execution_count": null,
      "outputs": [
        {
          "output_type": "execute_result",
          "data": {
            "text/html": [
              "<div>\n",
              "<style scoped>\n",
              "    .dataframe tbody tr th:only-of-type {\n",
              "        vertical-align: middle;\n",
              "    }\n",
              "\n",
              "    .dataframe tbody tr th {\n",
              "        vertical-align: top;\n",
              "    }\n",
              "\n",
              "    .dataframe thead th {\n",
              "        text-align: right;\n",
              "    }\n",
              "</style>\n",
              "<table border=\"1\" class=\"dataframe\">\n",
              "  <thead>\n",
              "    <tr style=\"text-align: right;\">\n",
              "      <th></th>\n",
              "      <th>body_shape</th>\n",
              "    </tr>\n",
              "  </thead>\n",
              "  <tbody>\n",
              "    <tr>\n",
              "      <th>0</th>\n",
              "      <td>Skinny</td>\n",
              "    </tr>\n",
              "    <tr>\n",
              "      <th>1</th>\n",
              "      <td>Normal</td>\n",
              "    </tr>\n",
              "    <tr>\n",
              "      <th>2</th>\n",
              "      <td>Fat</td>\n",
              "    </tr>\n",
              "    <tr>\n",
              "      <th>3</th>\n",
              "      <td>Skinny</td>\n",
              "    </tr>\n",
              "    <tr>\n",
              "      <th>4</th>\n",
              "      <td>Fat</td>\n",
              "    </tr>\n",
              "    <tr>\n",
              "      <th>5</th>\n",
              "      <td>Skinny</td>\n",
              "    </tr>\n",
              "    <tr>\n",
              "      <th>6</th>\n",
              "      <td>Normal</td>\n",
              "    </tr>\n",
              "    <tr>\n",
              "      <th>7</th>\n",
              "      <td>Fat</td>\n",
              "    </tr>\n",
              "    <tr>\n",
              "      <th>8</th>\n",
              "      <td>Normal</td>\n",
              "    </tr>\n",
              "    <tr>\n",
              "      <th>9</th>\n",
              "      <td>Fat</td>\n",
              "    </tr>\n",
              "  </tbody>\n",
              "</table>\n",
              "</div>"
            ],
            "text/plain": [
              "  body_shape\n",
              "0     Skinny\n",
              "1     Normal\n",
              "2        Fat\n",
              "3     Skinny\n",
              "4        Fat\n",
              "5     Skinny\n",
              "6     Normal\n",
              "7        Fat\n",
              "8     Normal\n",
              "9        Fat"
            ]
          },
          "metadata": {
            "tags": []
          },
          "execution_count": 16
        }
      ]
    },
    {
      "cell_type": "code",
      "metadata": {
        "id": "TWIf-i64wIcQ",
        "colab_type": "code",
        "colab": {}
      },
      "source": [
        "from sklearn.preprocessing import StandardScaler\n",
        "x_std=StandardScaler().fit_transform(x)"
      ],
      "execution_count": null,
      "outputs": []
    },
    {
      "cell_type": "code",
      "metadata": {
        "id": "a3o5-o_gwkAY",
        "colab_type": "code",
        "colab": {
          "base_uri": "https://localhost:8080/",
          "height": 187
        },
        "outputId": "41e03330-99db-4e04-cfbb-84dd4fd3c58e"
      },
      "source": [
        "x_std"
      ],
      "execution_count": null,
      "outputs": [
        {
          "output_type": "execute_result",
          "data": {
            "text/plain": [
              "array([[-1.35205803,  0.        , -1.3764944 , -1.28571429,  1.        ],\n",
              "       [ 0.01711466,  0.        , -0.22941573,  0.14285714,  0.        ],\n",
              "       [ 0.61612771,  1.29099445,  0.91766294,  0.14285714, -1.        ],\n",
              "       [-1.18091145, -1.29099445, -0.22941573, -1.28571429,  2.        ],\n",
              "       [ 1.89972711,  1.29099445,  0.91766294,  1.57142857, -1.        ],\n",
              "       [-1.26648474, -1.29099445, -1.3764944 ,  0.14285714,  1.        ],\n",
              "       [ 0.18826125,  0.        , -1.3764944 ,  0.14285714,  0.        ],\n",
              "       [ 1.04399418,  1.29099445,  0.91766294,  1.57142857, -1.        ],\n",
              "       [-0.15403193, -1.29099445,  0.91766294, -1.28571429, -1.        ],\n",
              "       [ 0.18826125,  0.        ,  0.91766294,  0.14285714,  0.        ]])"
            ]
          },
          "metadata": {
            "tags": []
          },
          "execution_count": 18
        }
      ]
    },
    {
      "cell_type": "code",
      "metadata": {
        "id": "RJVgZEalw6Gf",
        "colab_type": "code",
        "colab": {
          "base_uri": "https://localhost:8080/",
          "height": 102
        },
        "outputId": "ec75e148-1789-4358-d221-92277b417be3"
      },
      "source": [
        "import numpy as np\n",
        "features=x_std.T\n",
        "covariance_matrix=np.cov(features)\n",
        "print(covariance_matrix)"
      ],
      "execution_count": null,
      "outputs": [
        {
          "output_type": "stream",
          "text": [
            "[[ 1.11111111  0.88379717  0.76782385  0.89376551 -0.93179808]\n",
            " [ 0.88379717  1.11111111  0.49362406  0.81967902 -0.71721914]\n",
            " [ 0.76782385  0.49362406  1.11111111  0.40056715 -0.76471911]\n",
            " [ 0.89376551  0.81967902  0.40056715  1.11111111 -0.63492063]\n",
            " [-0.93179808 -0.71721914 -0.76471911 -0.63492063  1.11111111]]\n"
          ],
          "name": "stdout"
        }
      ]
    },
    {
      "cell_type": "code",
      "metadata": {
        "id": "n6IckUxgxvV2",
        "colab_type": "code",
        "colab": {}
      },
      "source": [
        "eig_vals,eig_vecs=np.linalg.eig(covariance_matrix)"
      ],
      "execution_count": null,
      "outputs": []
    },
    {
      "cell_type": "code",
      "metadata": {
        "id": "JU7P58JYzawY",
        "colab_type": "code",
        "colab": {
          "base_uri": "https://localhost:8080/",
          "height": 119
        },
        "outputId": "305c7684-f6b5-49d1-dca1-536c193ea8b7"
      },
      "source": [
        "print('Eigenvectors \\n%s' %eig_vecs)"
      ],
      "execution_count": null,
      "outputs": [
        {
          "output_type": "stream",
          "text": [
            "Eigenvectors \n",
            "[[-0.508005   -0.0169937  -0.84711404  0.11637853  0.10244985]\n",
            " [-0.44660335 -0.36890361  0.12808055 -0.63112016 -0.49973822]\n",
            " [-0.38377913  0.70804084  0.20681005 -0.40305226  0.38232213]\n",
            " [-0.42845209 -0.53194699  0.3694462   0.22228235  0.58954327]\n",
            " [ 0.46002038 -0.2816592  -0.29450345 -0.61341895  0.49601841]]\n"
          ],
          "name": "stdout"
        }
      ]
    },
    {
      "cell_type": "code",
      "metadata": {
        "id": "si-niLKh0IhI",
        "colab_type": "code",
        "colab": {
          "base_uri": "https://localhost:8080/",
          "height": 51
        },
        "outputId": "69cdbb38-76d3-4196-a60c-ca4e432ed827"
      },
      "source": [
        "print('Eigenvalues \\n%s' %eig_vals)"
      ],
      "execution_count": null,
      "outputs": [
        {
          "output_type": "stream",
          "text": [
            "Eigenvalues \n",
            "[4.0657343  0.8387565  0.07629538 0.27758568 0.2971837 ]\n"
          ],
          "name": "stdout"
        }
      ]
    },
    {
      "cell_type": "code",
      "metadata": {
        "id": "ZkVPGCYo0fTP",
        "colab_type": "code",
        "colab": {
          "base_uri": "https://localhost:8080/",
          "height": 34
        },
        "outputId": "1b999f75-d799-4715-de0e-2c60a2ff8c0b"
      },
      "source": [
        "eig_vals[0]/sum(eig_vals)"
      ],
      "execution_count": null,
      "outputs": [
        {
          "output_type": "execute_result",
          "data": {
            "text/plain": [
              "0.7318321731427544"
            ]
          },
          "metadata": {
            "tags": []
          },
          "execution_count": 30
        }
      ]
    },
    {
      "cell_type": "code",
      "metadata": {
        "id": "xjzWoqi500dk",
        "colab_type": "code",
        "colab": {
          "base_uri": "https://localhost:8080/",
          "height": 51
        },
        "outputId": "dcb22f32-9445-4fde-e16c-e7a0d2c9403d"
      },
      "source": [
        "projected_x=x_std.dot(eig_vecs.T[0])\n",
        "projected_x"
      ],
      "execution_count": null,
      "outputs": [
        {
          "output_type": "execute_result",
          "data": {
            "text/plain": [
              "array([ 2.22600943,  0.0181432 , -1.76296611,  2.73542407, -3.02711544,\n",
              "        2.14702579,  0.37142473, -2.59239883,  0.39347815, -0.50902498])"
            ]
          },
          "metadata": {
            "tags": []
          },
          "execution_count": 32
        }
      ]
    },
    {
      "cell_type": "code",
      "metadata": {
        "id": "1ddciE-a1Qwr",
        "colab_type": "code",
        "colab": {
          "base_uri": "https://localhost:8080/",
          "height": 359
        },
        "outputId": "856ced31-a09c-46ba-cc4d-e494f7c69e54"
      },
      "source": [
        "result=pd.DataFrame(projected_x,columns=['PC1'])\n",
        "result['y-axis']=0.0\n",
        "result['label']=y\n",
        "result.head(10)"
      ],
      "execution_count": null,
      "outputs": [
        {
          "output_type": "execute_result",
          "data": {
            "text/html": [
              "<div>\n",
              "<style scoped>\n",
              "    .dataframe tbody tr th:only-of-type {\n",
              "        vertical-align: middle;\n",
              "    }\n",
              "\n",
              "    .dataframe tbody tr th {\n",
              "        vertical-align: top;\n",
              "    }\n",
              "\n",
              "    .dataframe thead th {\n",
              "        text-align: right;\n",
              "    }\n",
              "</style>\n",
              "<table border=\"1\" class=\"dataframe\">\n",
              "  <thead>\n",
              "    <tr style=\"text-align: right;\">\n",
              "      <th></th>\n",
              "      <th>PC1</th>\n",
              "      <th>y-axis</th>\n",
              "      <th>label</th>\n",
              "    </tr>\n",
              "  </thead>\n",
              "  <tbody>\n",
              "    <tr>\n",
              "      <th>0</th>\n",
              "      <td>2.226009</td>\n",
              "      <td>0.0</td>\n",
              "      <td>Skinny</td>\n",
              "    </tr>\n",
              "    <tr>\n",
              "      <th>1</th>\n",
              "      <td>0.018143</td>\n",
              "      <td>0.0</td>\n",
              "      <td>Normal</td>\n",
              "    </tr>\n",
              "    <tr>\n",
              "      <th>2</th>\n",
              "      <td>-1.762966</td>\n",
              "      <td>0.0</td>\n",
              "      <td>Fat</td>\n",
              "    </tr>\n",
              "    <tr>\n",
              "      <th>3</th>\n",
              "      <td>2.735424</td>\n",
              "      <td>0.0</td>\n",
              "      <td>Skinny</td>\n",
              "    </tr>\n",
              "    <tr>\n",
              "      <th>4</th>\n",
              "      <td>-3.027115</td>\n",
              "      <td>0.0</td>\n",
              "      <td>Fat</td>\n",
              "    </tr>\n",
              "    <tr>\n",
              "      <th>5</th>\n",
              "      <td>2.147026</td>\n",
              "      <td>0.0</td>\n",
              "      <td>Skinny</td>\n",
              "    </tr>\n",
              "    <tr>\n",
              "      <th>6</th>\n",
              "      <td>0.371425</td>\n",
              "      <td>0.0</td>\n",
              "      <td>Normal</td>\n",
              "    </tr>\n",
              "    <tr>\n",
              "      <th>7</th>\n",
              "      <td>-2.592399</td>\n",
              "      <td>0.0</td>\n",
              "      <td>Fat</td>\n",
              "    </tr>\n",
              "    <tr>\n",
              "      <th>8</th>\n",
              "      <td>0.393478</td>\n",
              "      <td>0.0</td>\n",
              "      <td>Normal</td>\n",
              "    </tr>\n",
              "    <tr>\n",
              "      <th>9</th>\n",
              "      <td>-0.509025</td>\n",
              "      <td>0.0</td>\n",
              "      <td>Fat</td>\n",
              "    </tr>\n",
              "  </tbody>\n",
              "</table>\n",
              "</div>"
            ],
            "text/plain": [
              "        PC1  y-axis   label\n",
              "0  2.226009     0.0  Skinny\n",
              "1  0.018143     0.0  Normal\n",
              "2 -1.762966     0.0     Fat\n",
              "3  2.735424     0.0  Skinny\n",
              "4 -3.027115     0.0     Fat\n",
              "5  2.147026     0.0  Skinny\n",
              "6  0.371425     0.0  Normal\n",
              "7 -2.592399     0.0     Fat\n",
              "8  0.393478     0.0  Normal\n",
              "9 -0.509025     0.0     Fat"
            ]
          },
          "metadata": {
            "tags": []
          },
          "execution_count": 34
        }
      ]
    },
    {
      "cell_type": "code",
      "metadata": {
        "id": "WRdaksEb2L9o",
        "colab_type": "code",
        "colab": {
          "base_uri": "https://localhost:8080/",
          "height": 71
        },
        "outputId": "d179519f-815e-48b3-d364-b4ab9ce548fe"
      },
      "source": [
        "import matplotlib.pyplot as plt\n",
        "import seaborn as sns\n",
        "%matplotlib inline"
      ],
      "execution_count": null,
      "outputs": [
        {
          "output_type": "stream",
          "text": [
            "/usr/local/lib/python3.6/dist-packages/statsmodels/tools/_testing.py:19: FutureWarning: pandas.util.testing is deprecated. Use the functions in the public API at pandas.testing instead.\n",
            "  import pandas.util.testing as tm\n"
          ],
          "name": "stderr"
        }
      ]
    },
    {
      "cell_type": "code",
      "metadata": {
        "id": "WpRcT4pN2gz3",
        "colab_type": "code",
        "colab": {
          "base_uri": "https://localhost:8080/",
          "height": 402
        },
        "outputId": "72c6d603-17b6-480a-8d56-19b1a8e707c5"
      },
      "source": [
        "sns.lmplot('PC1','y-axis', data=result, fit_reg=False,\n",
        "           scatter_kws={'s':50},\n",
        "           hue=\"label\")\n",
        "plt.title('PCA result')\n"
      ],
      "execution_count": null,
      "outputs": [
        {
          "output_type": "execute_result",
          "data": {
            "text/plain": [
              "Text(0.5, 1.0, 'PCA result')"
            ]
          },
          "metadata": {
            "tags": []
          },
          "execution_count": 36
        },
        {
          "output_type": "display_data",
          "data": {
            "image/png": "[encoded data removed]",
            "text/plain": [
              "<Figure size 432.125x360 with 1 Axes>"
            ]
          },
          "metadata": {
            "tags": [],
            "needs_background": "light"
          }
        }
      ]
    }
  ]
}